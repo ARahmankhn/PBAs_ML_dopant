#libraries for Materials science PBAs
!pip install matminer pymatgen scikit-learn shap xgboost
!pip install mp-api
!pip install mp-api pymatgen pandas
!pip install matplotlib
!pip install matplotlib-venn
!pip install -U libarchive
!pip install pydot
!pip install cartopy
!pip install py3Dmol

# Install system-level dependencies
!apt-get -qq install -y libfluidsynth1
!apt-get -qq install -y libarchive-dev
!apt-get -qq install -y graphviz

#API from material project 
#materials to study
from mp_api.client import MPRester
import pandas as pd
# Elements to include
results = []

with MPRester(API_KEY) as mpr:
    for dopant in dopants:
        elements = target_elements + [dopant]

        # Correct crystal system values (capitalized)
        docs = mpr.materials.summary.search(
            elements=elements,
            exclude_elements=["element"],
            crystal_system=["Cubic", "Monoclinic"],
            fields=["material_id", "formula_pretty", "energy_above_hull", "density", "band_gap"]
   )

        for doc in docs:
            doc_data = {
                "material_id": doc.material_id,
                "formula": doc.formula_pretty,
                "energy_above_hull": doc.energy_above_hull,
                "density": doc.density,
                "band_gap": doc.band_gap,
                "dopant": dopant
            }
            results.append(doc_data)

# Convert to DataFrame
df = pd.DataFrame(results)
df.head()

with MPRester(API_KEY) as mpr:
    for dopant in dopants:
        elements = target_elements + [dopant]

        docs = mpr.materials.summary.search(
            elements=elements,
            exclude_elements=["elements"],
            crystal_system=["Cubic", "Monoclinic"],
            fields=[
                "material_id", "formula_pretty",
                "energy_above_hull", "structure"
            ]
        )

        for doc in docs:
            material_id = doc.material_id
            formula = doc.formula_pretty
            e_hull = doc.energy_above_hull
            structure = doc.structure

            # Placeholder logic for vacancy and water — refine later
            vacancy_ratio = 0.0  # Placeholder: You will estimate this from structure
            water_content = 0.0  # Placeholder: You can count H2O molecules later

            # Stability Score (simplified): 1 = stable, 0 = unstable
            stability_score = max(0.0, 1.0 - e_hull)  # Use a cutoff if needed

            results.append({
                "Material_ID": material_id,
                "Formula": formula,
                "Energy_Above_Hull": e_hull,
                "Vacancy_Ratio": vacancy_ratio,
                "Water_Content": water_content,
                "Stability_Score": stability_score,
                "M1_Dopant": dopant
            })

# Convert to DataFrame
df = pd.DataFrame(results)
df.head()

# Import the necessary libraries
import matplotlib.pyplot as plt
from matplotlib_venn import venn2, venn3  # Choose whichever you need
import pydot
import cartopy

#materials structure 
from mp_api.client import MPRester
from pymatgen.io.cif import CifWriter
import py3Dmol

# Your Materials Project API key

# List of PBA Material IDs
material_ids = [
 
]

# Start session and visualize
with MPRester(API_KEY) as mpr:
    for mat_id in material_ids:
        # Fetch structure and info
        doc = mpr.materials.summary.get_data_by_id(mat_id)
        structure = doc.structure
        formula = doc.formula_pretty

        print(f"\n🔬 Showing structure for: {formula} ({mat_id})")

        # Convert to CIF string
        cif_str = CifWriter(structure).__str__()

        # Create 3D view
        view = py3Dmol.view(width=400, height=400)
        view.addModel(cif_str, 'cif')
        view.setStyle({'stick': {}})
        view.addUnitCell()
        view.zoomTo()
        view.show()
 from matminer.featurizers.structure import DensityFeatures, GlobalSymmetryFeatures, RadialDistributionFunction
from mp_api.client import MPRester
import pandas as pd


material_ids = [
  
]

results = []

with MPRester(API_KEY) as mpr:
    for mat_id in material_ids:
        doc = mpr.materials.summary.get_data_by_id(mat_id)
        structure = doc.structure
        density = doc.density
        volume = structure.volume
        lattice = structure.lattice

        results.append({
            "Material_ID": mat_id,
            "Formula": doc.formula_pretty,
            "Density": density,
            "Volume": volume,
            "a": lattice.a,
            "b": lattice.b,
            "c": lattice.c,
            "alpha": lattice.alpha,
            "beta": lattice.beta,
            "gamma": lattice.gamma,
            "structure": structure
        })

df = pd.DataFrame(results)

# Apply Matminer featurizers
featurizers = [
    DensityFeatures(),
    GlobalSymmetryFeatures(),
    RadialDistributionFunction()
]

for f in featurizers:
    print(f"Applying: {f.__class__.__name__}")
    df = f.featurize_dataframe(df, "structure", ignore_errors=True)

# Drop structure column if exporting to CSV
df.drop(columns=["structure"], inplace=True)

df.head()


# prompt: export this table into csv and download

file_name = 'pba_data.csv'
df.to_csv(file_name, index=False)

from google.colab import files
files.download(file_name)

